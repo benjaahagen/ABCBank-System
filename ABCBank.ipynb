{
 "cells": [
  {
   "cell_type": "markdown",
   "id": "71471682",
   "metadata": {},
   "source": [
    "# Object-Oriented Banking System"
   ]
  },
  {
   "cell_type": "markdown",
   "id": "e5fcf879",
   "metadata": {},
   "source": [
    "## Introduction\n",
    "In this report, we will design a proof-of-concept prototype for a banking system for ABCBank. Our main aim is to demonstrate the application of Object Oriented Programming (OOP) principles and various design patterns including Strategy, Abstract Factory, Decorator, and Facade."
   ]
  },
  {
   "cell_type": "markdown",
   "id": "7076ea2c",
   "metadata": {},
   "source": [
    "## Importing Necessary Libraries\n",
    "We will use the ABCMeta and abstractmethod from the abc module to create abstract base classes and abstract methods."
   ]
  },
  {
   "cell_type": "code",
   "execution_count": 1,
   "id": "1bafc4b1",
   "metadata": {},
   "outputs": [],
   "source": [
    "from abc import ABCMeta, abstractmethod"
   ]
  },
  {
   "cell_type": "markdown",
   "id": "68974e2a",
   "metadata": {},
   "source": [
    "## Strategy Pattern\n",
    "We will create an Account interface and various concrete classes that implement this interface. This pattern will enable us to define a family of algorithms (different types of accounts), encapsulate each one, and make them interchangeable."
   ]
  },
  {
   "cell_type": "code",
   "execution_count": 2,
   "id": "5c2afc97",
   "metadata": {},
   "outputs": [],
   "source": [
    "class Account(metaclass=ABCMeta):\n",
    "    @abstractmethod\n",
    "    def account_type(self):\n",
    "        pass\n",
    "\n",
    "class CurrentAccount(Account):\n",
    "    def account_type(self):\n",
    "        return \"Current Account Created\"\n",
    "\n",
    "class HomeLoanAccount(Account):\n",
    "    def account_type(self):\n",
    "        return \"Home Loan Account Created\"\n",
    "\n",
    "class CarLoanAccount(Account):\n",
    "    def account_type(self):\n",
    "        return \"Car Loan Account Created\"\n",
    "\n",
    "class PersonalLoanAccount(Account):\n",
    "    def account_type(self):\n",
    "        return \"Personal Loan Account Created\"\n",
    "\n",
    "class SavingsAccount(Account):\n",
    "    def account_type(self):\n",
    "        return \"Savings Account Created\""
   ]
  },
  {
   "cell_type": "markdown",
   "id": "fcc28eb4",
   "metadata": {},
   "source": [
    "## Abstract Factory Pattern\n",
    "We will create an AccountFactory interface and various concrete factories that implement this interface. The factory pattern provides a way to encapsulate a group of individual factories with a common goal."
   ]
  },
  {
   "cell_type": "code",
   "execution_count": 3,
   "id": "381fa80c",
   "metadata": {},
   "outputs": [],
   "source": [
    "class AccountFactory(metaclass=ABCMeta):\n",
    "    @abstractmethod\n",
    "    def create_account(self):\n",
    "        pass\n",
    "\n",
    "class CurrentAccountFactory(AccountFactory):\n",
    "    def create_account(self):\n",
    "        return CurrentAccount()\n",
    "\n",
    "class HomeLoanAccountFactory(AccountFactory):\n",
    "    def create_account(self):\n",
    "        return HomeLoanAccount()\n",
    "\n",
    "class CarLoanAccountFactory(AccountFactory):\n",
    "    def create_account(self):\n",
    "        return CarLoanAccount()\n",
    "\n",
    "class PersonalLoanAccountFactory(AccountFactory):\n",
    "    def create_account(self):\n",
    "        return PersonalLoanAccount()\n",
    "\n",
    "class SavingsAccountFactory(AccountFactory):\n",
    "    def create_account(self):\n",
    "        return SavingsAccount()"
   ]
  },
  {
   "cell_type": "markdown",
   "id": "d1c5257a",
   "metadata": {},
   "source": [
    "## Class Diagram\n",
    "\n",
    "To better understand the structure and relationships of the classes in our banking system, we provide a Class Diagram. This diagram includes classes such as `Account`, `Customer`, `BankingServices`, `LoanApplication`, and the different types of accounts (`CurrentAccount`, `HomeLoanAccount`, etc.).\n",
    "\n",
    "![Class Diagram](abc.png)\n",
    "\n",
    "As shown in the diagram:\n",
    "\n",
    "- The `Customer` class interacts with the `BankingServices` class to perform operations such as creating an account or applying for a loan. Each `Customer` has attributes such as `name`, `age`, `income`, `education`, and `credit_score`, and a method `check_credit()` to determine their creditworthiness.\n",
    "\n",
    "- The `BankingServices` class provides various banking services. It interacts with the `Account` and `LoanApplication` classes to carry out these operations. It has methods like `create_account()`, `upgrade_account()`, and `apply_discount()`.\n",
    "\n",
    "- The `Account` class is an abstract base class for various types of accounts. It has an abstract method `account_type()`. The different types of accounts (`CurrentAccount`, `HomeLoanAccount`, etc.) are concrete classes that inherit from `Account` and implement the `account_type()` method.\n",
    "\n",
    "- The `LoanApplication` class handles the loan application process. It has a method `apply_for_loan()` that checks the `Customer's` credit score and, if high enough, sends a request to `BankingServices` to create a `LoanAccount`.\n",
    "\n",
    "This Class Diagram provides a visual representation of the structure of our banking system and the relationships between its main classes."
   ]
  },
  {
   "cell_type": "markdown",
   "id": "48cb79d9",
   "metadata": {},
   "source": [
    "## Decorator Pattern\n",
    "The decorator pattern will be used to add additional features to an Account object dynamically without affecting other objects of the same class. For example, we can add a decorator to upgrade the level of a current account to Bronze, Silver, or Gold."
   ]
  },
  {
   "cell_type": "code",
   "execution_count": 4,
   "id": "e8099a78",
   "metadata": {},
   "outputs": [],
   "source": [
    "class AccountDecorator(Account):\n",
    "    def __init__(self, account):\n",
    "        self.account = account\n",
    "\n",
    "    def account_type(self):\n",
    "        return self.account.account_type()\n",
    "\n",
    "class BronzeAccountDecorator(AccountDecorator):\n",
    "    def account_type(self):\n",
    "        return self.account.account_type() + \" with Bronze features\"\n",
    "\n",
    "class SilverAccountDecorator(AccountDecorator):\n",
    "    def account_type(self):\n",
    "        return self.account.account_type() + \" with Silver features\"\n",
    "\n",
    "class GoldAccountDecorator(AccountDecorator):\n",
    "    def account_type(self):\n",
    "        return self.account.account_type() + \" with Gold features\"\n",
    "\n",
    "class DiscountedAccount(AccountDecorator):\n",
    "    def account_type(self):\n",
    "        return self.account.account_type() + \" with discount\""
   ]
  },
  {
   "cell_type": "markdown",
   "id": "4a83a8c1",
   "metadata": {},
   "source": [
    "## Customer Class\n",
    "We create a Customer class to hold customer details and determine their eligibility for different accounts and features."
   ]
  },
  {
   "cell_type": "code",
   "execution_count": 5,
   "id": "534f4d7e",
   "metadata": {},
   "outputs": [],
   "source": [
    "class Customer:\n",
    "    def __init__(self, name, age, income, education, credit_score):\n",
    "        self.name = name\n",
    "        self.age = age\n",
    "        self.income = income\n",
    "        self.education = education\n",
    "        self.credit_score = credit_score\n",
    "\n",
    "    def check_credit(self):\n",
    "        return self.credit_score > 700"
   ]
  },
  {
   "cell_type": "markdown",
   "id": "d48513c8",
   "metadata": {},
   "source": [
    "## Facade Pattern\n",
    "We create the BankingServices class to provide a simplified interface for creating accounts and applying discounts based on customer details."
   ]
  },
  {
   "cell_type": "code",
   "execution_count": 6,
   "id": "0779f61e",
   "metadata": {},
   "outputs": [],
   "source": [
    "class BankingServices:\n",
    "    def __init__(self):\n",
    "        self.account_factories = {\n",
    "            \"Current\": CurrentAccountFactory(),\n",
    "            \"HomeLoan\": HomeLoanAccountFactory(),\n",
    "            \"CarLoan\": CarLoanAccountFactory(),\n",
    "            \"PersonalLoan\": PersonalLoanAccountFactory(),\n",
    "            \"Savings\": SavingsAccountFactory()\n",
    "        }\n",
    "\n",
    "    def create_account(self, type, customer):\n",
    "        if type == \"HomeLoan\" and customer.age > 50:\n",
    "            return \"Sorry, customers over 50 do not qualify for home loans.\"\n",
    "        elif type in [\"CarLoan\", \"PersonalLoan\"] and customer.income < 50000:\n",
    "            return \"Sorry, you need a minimum income of 50,000 for car and personal loans.\"\n",
    "        elif type == \"Savings\" and customer.age < 18:\n",
    "            return \"Sorry, you need to be at least 18 years old to open a savings account.\"\n",
    "        else:\n",
    "            factory = self.account_factories.get(type)\n",
    "            if factory:\n",
    "                account = factory.create_account()\n",
    "                return account.account_type()\n",
    "            else:\n",
    "                return \"Invalid account type\"\n",
    "\n",
    "    def upgrade_account(self, account, level):\n",
    "        if level == \"Bronze\":\n",
    "            return BronzeAccountDecorator(account).account_type()\n",
    "        elif level == \"Silver\":\n",
    "            return SilverAccountDecorator(account).account_type()\n",
    "        elif level == \"Gold\":\n",
    "            return GoldAccountDecorator(account).account_type()\n",
    "        else:\n",
    "            return \"Invalid level\"\n",
    "\n",
    "    def apply_discount(self, account):\n",
    "        return DiscountedAccount(account).account_type()"
   ]
  },
  {
   "cell_type": "markdown",
   "id": "30f2868e",
   "metadata": {},
   "source": [
    "## Loan Application Process\n",
    "We add a LoanApplication class that handles loan applications."
   ]
  },
  {
   "cell_type": "code",
   "execution_count": 7,
   "id": "69445125",
   "metadata": {},
   "outputs": [],
   "source": [
    "class LoanApplication:\n",
    "    def __init__(self, banking_services):\n",
    "        self.banking_services = banking_services\n",
    "\n",
    "    def apply_for_loan(self, type, customer):\n",
    "        if customer.check_credit():\n",
    "            return self.banking_services.create_account(type, customer)\n",
    "        else:\n",
    "            return \"Sorry, your credit score is too low for a loan.\""
   ]
  },
  {
   "cell_type": "markdown",
   "id": "d4fd58b5",
   "metadata": {},
   "source": [
    "## Testing of the System\n",
    "We test the system by creating several accounts, upgrading them, applying discounts, and handling loan applications."
   ]
  },
  {
   "cell_type": "code",
   "execution_count": 8,
   "id": "055a3cfb",
   "metadata": {},
   "outputs": [
    {
     "name": "stdout",
     "output_type": "stream",
     "text": [
      "Car Loan Account Created\n",
      "Sorry, your credit score is too low for a loan.\n",
      "Savings Account Created\n",
      "Savings Account Created with Gold features\n",
      "Savings Account Created with discount\n",
      "Home Loan Account Created\n",
      "Current Account Created\n",
      "Current Account Created with Silver features\n"
     ]
    }
   ],
   "source": [
    "banking_services = BankingServices()\n",
    "loan_application = LoanApplication(banking_services)\n",
    "\n",
    "# Creating customers\n",
    "ola = Customer(\"Ola Nordmann\", 25, 70000, \"Bachelor's\", 800)\n",
    "lisa = Customer(\"Lisa Andersen\", 55, 80000, \"Master's\", 650)\n",
    "anders = Customer(\"Anders Andersen\", 30, 50000, \"Bachelor's\", 750)\n",
    "\n",
    "# Ola applies for a car loan\n",
    "print(loan_application.apply_for_loan(\"CarLoan\", ola))\n",
    "\n",
    "# Lisa tries to apply for a home loan\n",
    "print(loan_application.apply_for_loan(\"HomeLoan\", lisa))\n",
    "\n",
    "# Anders opens a savings account\n",
    "print(banking_services.create_account(\"Savings\", anders))\n",
    "\n",
    "# Anders upgrades his savings account to Gold\n",
    "account = SavingsAccount()\n",
    "upgraded_account = banking_services.upgrade_account(account, \"Gold\")\n",
    "print(upgraded_account)\n",
    "\n",
    "# Anders applies for a discount on his account\n",
    "discounted_account = banking_services.apply_discount(account)\n",
    "print(discounted_account)\n",
    "\n",
    "# Anders tries to open a home loan account\n",
    "print(loan_application.apply_for_loan(\"HomeLoan\", anders))\n",
    "\n",
    "# Lisa tries to open a current account\n",
    "print(banking_services.create_account(\"Current\", lisa))\n",
    "\n",
    "# Lisa upgrades her current account to Silver\n",
    "account = CurrentAccount()\n",
    "upgraded_account = banking_services.upgrade_account(account, \"Silver\")\n",
    "print(upgraded_account)"
   ]
  },
  {
   "cell_type": "markdown",
   "id": "9525872a",
   "metadata": {},
   "source": [
    "## Design Choices\n",
    "\n",
    "#### Encapsulation: \n",
    "The data (attributes) and methods that operate on the data are bundled together as a unit (class). This makes the code easier to understand and maintain, and protects the data from outside interference and misuse.\n",
    "\n",
    "#### Inheritance: \n",
    "This principle is used to define different types of accounts. A base class Account is defined and different types of accounts are derived from this base class, inheriting its properties and behaviors.\n",
    "\n",
    "#### Polymorphism: \n",
    "This principle is used to allow different types of accounts to be created and handled using a unified interface. This makes the system flexible and easy to expand with new account types.\n",
    "\n",
    "### The design also incorporates the following design patterns:\n",
    "\n",
    "#### Strategy Pattern: \n",
    "This pattern is used to define a family of interchangeable algorithms. In the context of the system, these algorithms are the different types of accounts. By encapsulating each as an object, we make them interchangeable within the context of the Account class.\n",
    "\n",
    "#### Abstract Factory Pattern: \n",
    "This pattern is used to create objects of the Account class. A factory class AccountFactory is defined to provide an interface for creating objects of Account class, and different concrete factory classes are defined for creating different types of accounts.\n",
    "\n",
    "#### Decorator Pattern: \n",
    "This pattern is used to add additional behaviors to an Account object dynamically. In the context of the system, this pattern is used to upgrade an account to a Bronze, Silver, or Gold account, adding additional features to the account.\n",
    "\n",
    "#### Facade Pattern: \n",
    "This pattern is used to provide a simplified interface to a complex subsystem. In the context of the system, the BankingServices class provides a simplified interface for creating and upgrading accounts.\n",
    "\n",
    "### Benefits of the Design Choices\n",
    "\n",
    "#### Flexibility: \n",
    "The use of the Strategy pattern allows the system to handle different types of accounts that have different behaviors. The system can easily be extended to handle new types of accounts.\n",
    "\n",
    "#### Ease of expansion: \n",
    "The Abstract Factory pattern makes it easy to add new types of accounts. A new type of account can be added by defining a new concrete factory class without changing the existing code.\n",
    "\n",
    "#### Dynamic behavior modification: \n",
    "The Decorator pattern allows behaviors of an account to be modified dynamically, providing flexibility in upgrading accounts.\n",
    "\n",
    "#### Simplicity: \n",
    "The Facade pattern hides the complexities of the underlying system, providing a simple interface for creating and upgrading accounts. This makes the system easier to use.\n",
    "\n",
    "#### Future-proof: \n",
    "The design is robust against changes. New types of accounts can easily be added and existing accounts can easily be modified without changing the existing code. This makes the system more future-proof.\n",
    "\n",
    "In conclusion, this design provides a robust, flexible, and extensible system for managing accounts in a banking system. The use of OOP principles and design patterns makes the system easy to understand, maintain, and expand, ensuring it is future-proof and adaptable to changing requirements."
   ]
  }
 ],
 "metadata": {
  "kernelspec": {
   "display_name": "Python 3 (ipykernel)",
   "language": "python",
   "name": "python3"
  },
  "language_info": {
   "codemirror_mode": {
    "name": "ipython",
    "version": 3
   },
   "file_extension": ".py",
   "mimetype": "text/x-python",
   "name": "python",
   "nbconvert_exporter": "python",
   "pygments_lexer": "ipython3",
   "version": "3.9.13"
  }
 },
 "nbformat": 4,
 "nbformat_minor": 5
}
